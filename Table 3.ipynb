{
 "cells": [
  {
   "cell_type": "code",
   "execution_count": 1,
   "id": "dedc498a-cac7-4f3f-bb5c-2dd4f19e9342",
   "metadata": {},
   "outputs": [],
   "source": [
    "import pandas as pd \n",
    "import numpy as np\n",
    "import json, urllib.request\n",
    "from datetime import datetime\n",
    "from datetime import timedelta\n",
    "from collections import Counter\n",
    "import calendar\n",
    "\n",
    "transaction_data = pd.read_json('transaction-data-adhoc-analysis.json')\n",
    "months_loop = [pd.to_datetime(x).strftime(\"%m\") for x in list(transaction_data['transaction_date'])]\n",
    "#repeaters = f.open(\"repeaters.json\",\"w\")\n",
    "#transaction_data.drop('Months', axis=1, inplace=True)\n",
    "transaction_data.insert(2,\"Months\",months_loop, True)"
   ]
  },
  {
   "cell_type": "code",
   "execution_count": 5,
   "id": "223c222f-2e60-4d3d-9d2d-466aef858b50",
   "metadata": {},
   "outputs": [
    {
     "data": {
      "text/plain": [
       "[0, 5172, 5216, 5154, 5110, 5193]"
      ]
     },
     "execution_count": 5,
     "metadata": {},
     "output_type": "execute_result"
    }
   ],
   "source": [
    "#repeaters shorter\n",
    "month_list_rep = transaction_data['Months']\n",
    "min_month_rep = int(month_list_rep.min())\n",
    "max_month_rep = int(month_list_rep.max())\n",
    "prev_month_rep = min_month_rep - 1\n",
    "current_month_rep = prev_month_rep + 1\n",
    "month_repeaters_count = []\n",
    "while prev_month_rep < max_month_rep:\n",
    "    if prev_month_rep < 10:\n",
    "        prev_month_rep_str = \"0\" + str(prev_month_rep)\n",
    "    else:\n",
    "        prev_month_rep_str = str(prev_month_rep)\n",
    "        \n",
    "    if current_month_rep < 10:\n",
    "        current_month_rep_str = \"0\"+str(current_month_rep)\n",
    "    else:\n",
    "        current_month_rep_str = str(current_month_rep)\n",
    "        \n",
    "    month_one_names = transaction_data.loc[transaction_data['Months']== prev_month_rep_str,'name']\n",
    "    month_two_names = transaction_data.loc[transaction_data['Months']== current_month_rep_str,'name']\n",
    "    month_repeaters = len(pd.Series(list(set(month_one_names) & set(month_two_names)), dtype=pd.StringDtype()).unique())\n",
    "    prev_month_rep = prev_month_rep + 1\n",
    "    current_month_rep = current_month_rep + 1\n",
    "    month_repeaters_count.append(month_repeaters)\n",
    "    \n",
    "month_repeaters_count"
   ]
  },
  {
   "cell_type": "code",
   "execution_count": 7,
   "id": "13472b27-cace-4229-a1d6-27a333d58c3a",
   "metadata": {},
   "outputs": [
    {
     "data": {
      "text/plain": [
       "[0, 1856, 1865, 1931, 1919, 1835]"
      ]
     },
     "execution_count": 7,
     "metadata": {},
     "output_type": "execute_result"
    }
   ],
   "source": [
    "#inactive function\n",
    "month_list_in = transaction_data['Months']\n",
    "min_month_in = int(month_list_in.min())\n",
    "max_month_in = int(month_list_in.max())\n",
    "names_set_in = transaction_data[\"name\"].unique()\n",
    "prev_month_in = min_month_in - 1\n",
    "current_month_in = prev_month_in + 1\n",
    "month_inactive_count = []\n",
    "while prev_month_in < max_month_in:\n",
    "    if prev_month_in < 10:\n",
    "        prev_month_in_str = \"0\"+str(prev_month_in)\n",
    "    else:\n",
    "        prev_month_in_str = str(prev_month_in)\n",
    "        \n",
    "    if current_month_in < 10:\n",
    "        current_month_in_str = \"0\"+str(current_month_in)\n",
    "    else:\n",
    "        current_month_in_str = str(current_month_in)\n",
    "        \n",
    "    current_month_names = transaction_data.loc[transaction_data['Months']== current_month_in_str,'name']\n",
    "    \n",
    "    if min_month_in == current_month_in or max_month_in <= prev_month_in:\n",
    "        inactive_month = 0\n",
    "    else:\n",
    "        inactive_month = len(pd.Series(list(set(names_set_in).difference(current_month_names))))\n",
    "    \n",
    "    month_inactive_count.append(inactive_month)\n",
    "    prev_month_in = prev_month_in + 1\n",
    "    current_month_in = current_month_in + 1\n",
    "\n",
    "month_inactive_count"
   ]
  },
  {
   "cell_type": "code",
   "execution_count": 8,
   "id": "f6baa03a-e055-45ca-a6df-f5efa3ac4052",
   "metadata": {},
   "outputs": [
    {
     "data": {
      "text/plain": [
       "[0, 5172, 4126, 3289, 2667, 2190]"
      ]
     },
     "execution_count": 8,
     "metadata": {},
     "output_type": "execute_result"
    }
   ],
   "source": [
    "#engaged shortcut code\n",
    "month_list_eng = transaction_data['Months']\n",
    "engaged_users_array = []\n",
    "min_month_eng = int(month_list_eng.min())\n",
    "max_month_eng = int(month_list_eng.max())\n",
    "prev_engaged_month = min_month_eng - 1\n",
    "current_month_eng = min_month_eng\n",
    "\n",
    "while prev_engaged_month < max_month_eng:\n",
    "    if prev_engaged_month < 10:\n",
    "        prev_engaged_month_str = \"0\"+str(prev_engaged_month)\n",
    "    else:\n",
    "        prev_engaged_month_str = str(prev_engaged_month)\n",
    "        \n",
    "    if current_month_eng < 10:\n",
    "        current_month_eng_str = \"0\"+str(current_month_eng)\n",
    "    else:\n",
    "        current_month_eng_str = str(current_month_eng)\n",
    "\n",
    "    if prev_engaged_month < min_month_eng:\n",
    "        engaged_users_append = 0\n",
    "    elif prev_engaged_month == min_month_eng:\n",
    "        prev_eng = transaction_data.loc[transaction_data['Months'] == prev_engaged_month_str,'name']\n",
    "        current_eng = transaction_data.loc[transaction_data['Months'] == current_month_eng_str,'name']\n",
    "        current_month_engaged = pd.Series(list(set(prev_eng) & set(current_eng)), dtype=pd.StringDtype()).unique()\n",
    "        engaged_users = current_month_engaged\n",
    "        engaged_users_append = len(engaged_users)\n",
    "    else:\n",
    "        prev_eng = transaction_data.loc[transaction_data['Months'] == prev_engaged_month_str,'name']\n",
    "        current_eng = transaction_data.loc[transaction_data['Months'] == current_month_eng_str,'name']\n",
    "        current_month_engaged = pd.Series(list(set(prev_eng) & set(current_eng)), dtype=pd.StringDtype()).unique()\n",
    "        engaged_users = pd.Series(list(set(current_month_engaged) & set(engaged_users)), dtype=pd.StringDtype()).unique()\n",
    "        engaged_users_append = len(engaged_users)\n",
    "        \n",
    "    engaged_users_array.append(engaged_users_append)\n",
    "    prev_engaged_month = prev_engaged_month + 1\n",
    "    current_month_eng = current_month_eng + 1\n",
    "    \n",
    "\n",
    "engaged_users_array\n"
   ]
  },
  {
   "cell_type": "code",
   "execution_count": 3,
   "id": "a21e9619-6c89-4075-96a1-d47153bdb00a",
   "metadata": {},
   "outputs": [
    {
     "data": {
      "text/plain": [
       "['January', 'February', 'March', 'April', 'May', 'June']"
      ]
     },
     "execution_count": 3,
     "metadata": {},
     "output_type": "execute_result"
    }
   ],
   "source": [
    "months_for_table = []\n",
    "month_list_tab = transaction_data['Months']\n",
    "min_month_tab = int(month_list_tab.min())\n",
    "max_month_tab = int(month_list_tab.max())\n",
    "current_month_tab = min_month_tab\n",
    "\n",
    "while current_month_tab <= max_month_tab:\n",
    "    month_name = calendar.month_name[current_month_tab]\n",
    "    months_for_table.append(month_name)\n",
    "    current_month_tab = current_month_tab + 1\n",
    "\n",
    "months_for_table"
   ]
  },
  {
   "cell_type": "code",
   "execution_count": 66,
   "id": "7366db6e-225e-4266-a814-9be2a6fb9e90",
   "metadata": {},
   "outputs": [
    {
     "data": {
      "text/html": [
       "<div>\n",
       "<style scoped>\n",
       "    .dataframe tbody tr th:only-of-type {\n",
       "        vertical-align: middle;\n",
       "    }\n",
       "\n",
       "    .dataframe tbody tr th {\n",
       "        vertical-align: top;\n",
       "    }\n",
       "\n",
       "    .dataframe thead th {\n",
       "        text-align: right;\n",
       "    }\n",
       "</style>\n",
       "<table border=\"1\" class=\"dataframe\">\n",
       "  <thead>\n",
       "    <tr style=\"text-align: right;\">\n",
       "      <th></th>\n",
       "      <th>0</th>\n",
       "      <th>1</th>\n",
       "      <th>2</th>\n",
       "      <th>3</th>\n",
       "      <th>4</th>\n",
       "      <th>5</th>\n",
       "    </tr>\n",
       "  </thead>\n",
       "  <tbody>\n",
       "    <tr>\n",
       "      <th></th>\n",
       "      <td>January</td>\n",
       "      <td>February</td>\n",
       "      <td>March</td>\n",
       "      <td>April</td>\n",
       "      <td>May</td>\n",
       "      <td>June</td>\n",
       "    </tr>\n",
       "    <tr>\n",
       "      <th>Repeaters</th>\n",
       "      <td>0</td>\n",
       "      <td>5172</td>\n",
       "      <td>5216</td>\n",
       "      <td>5154</td>\n",
       "      <td>5110</td>\n",
       "      <td>5193</td>\n",
       "    </tr>\n",
       "    <tr>\n",
       "      <th>Inactive</th>\n",
       "      <td>0</td>\n",
       "      <td>1856</td>\n",
       "      <td>1865</td>\n",
       "      <td>1931</td>\n",
       "      <td>1919</td>\n",
       "      <td>1835</td>\n",
       "    </tr>\n",
       "    <tr>\n",
       "      <th>Engaged</th>\n",
       "      <td>0</td>\n",
       "      <td>5172</td>\n",
       "      <td>4126</td>\n",
       "      <td>3289</td>\n",
       "      <td>2667</td>\n",
       "      <td>2190</td>\n",
       "    </tr>\n",
       "  </tbody>\n",
       "</table>\n",
       "</div>"
      ],
      "text/plain": [
       "                 0         1      2      3     4     5\n",
       "           January  February  March  April   May  June\n",
       "Repeaters        0      5172   5216   5154  5110  5193\n",
       "Inactive         0      1856   1865   1931  1919  1835\n",
       "Engaged          0      5172   4126   3289  2667  2190"
      ]
     },
     "execution_count": 66,
     "metadata": {},
     "output_type": "execute_result"
    }
   ],
   "source": [
    "table_array_2 = [months_for_table, month_repeaters_count, month_inactive_count, engaged_users_array]\n",
    "counts = [month_repeaters_count, month_inactive_count, engaged_users_array]\n",
    "df_tab_2 = pd.DataFrame(table_array_2, index=['','Repeaters','Inactive','Engaged'])\n",
    "df_tab_2"
   ]
  },
  {
   "cell_type": "code",
   "execution_count": null,
   "id": "cab7bd27-e20e-4abf-a1f6-83c8e2d2fbe3",
   "metadata": {},
   "outputs": [],
   "source": []
  },
  {
   "cell_type": "code",
   "execution_count": null,
   "id": "34ab51e4-63bf-4d84-8f96-2bb8616fde09",
   "metadata": {},
   "outputs": [],
   "source": []
  }
 ],
 "metadata": {
  "kernelspec": {
   "display_name": "Python 3 (ipykernel)",
   "language": "python",
   "name": "python3"
  },
  "language_info": {
   "codemirror_mode": {
    "name": "ipython",
    "version": 3
   },
   "file_extension": ".py",
   "mimetype": "text/x-python",
   "name": "python",
   "nbconvert_exporter": "python",
   "pygments_lexer": "ipython3",
   "version": "3.9.12"
  }
 },
 "nbformat": 4,
 "nbformat_minor": 5
}
